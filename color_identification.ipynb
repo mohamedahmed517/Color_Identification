{
 "cells": [
  {
   "cell_type": "code",
   "execution_count": 1,
   "id": "8af9a7ea",
   "metadata": {},
   "outputs": [],
   "source": [
    "import cv2\n",
    "import pandas as pd"
   ]
  },
  {
   "cell_type": "code",
   "execution_count": 2,
   "id": "d23dad80",
   "metadata": {},
   "outputs": [],
   "source": [
    "img_path = 'colorpic.jpg'\n",
    "img = cv2.imread(img_path)"
   ]
  },
  {
   "cell_type": "code",
   "execution_count": 3,
   "id": "23b4c003",
   "metadata": {},
   "outputs": [],
   "source": [
    "clicked = False\n",
    "r = g = b = x_pos = y_pos = 0\n",
    "\n",
    "index = [\"color\", \"color_name\", \"hex\", \"R\", \"G\", \"B\"]\n",
    "csv = pd.read_csv('colors.csv', names=index, header=None)"
   ]
  },
  {
   "cell_type": "code",
   "execution_count": 4,
   "id": "cb5d4b1f",
   "metadata": {},
   "outputs": [],
   "source": [
    "def get_color_name(R, G, B):\n",
    "\tminimum = float('inf')\n",
    "\tcname = \"\"\n",
    "\tfor i in range(len(csv)):\n",
    "\t\t\td = abs(R - int(csv.loc[i, \"R\"])) + abs(G - int(csv.loc[i, \"G\"])) + abs(B - int(csv.loc[i, \"B\"]))\n",
    "\t\t\tif d < minimum:\n",
    "\t\t\t\t\tminimum = d\n",
    "\t\t\t\t\tcname = csv.loc[i, \"color_name\"]\n",
    "\treturn cname"
   ]
  },
  {
   "cell_type": "code",
   "execution_count": 5,
   "id": "7ddf6b71",
   "metadata": {},
   "outputs": [],
   "source": [
    "def draw_function(event, x, y, flags, param):\n",
    "\tglobal b, g, r, x_pos, y_pos, clicked\n",
    "\tif event == cv2.EVENT_LBUTTONDOWN:\n",
    "\t\t\tclicked = True\n",
    "\t\t\tx_pos = x\n",
    "\t\t\ty_pos = y\n",
    "\t\t\tb, g, r = img[y, x]\n",
    "\t\t\tb = int(b)\n",
    "\t\t\tg = int(g)\n",
    "\t\t\tr = int(r)"
   ]
  },
  {
   "cell_type": "code",
   "execution_count": 6,
   "id": "7987b613",
   "metadata": {},
   "outputs": [],
   "source": [
    "cv2.namedWindow('image')\n",
    "cv2.setMouseCallback('image', draw_function)"
   ]
  },
  {
   "cell_type": "code",
   "execution_count": 7,
   "id": "489517d0",
   "metadata": {},
   "outputs": [],
   "source": [
    "while True:\n",
    "\tcv2.imshow(\"image\", img)\n",
    "\tif clicked:\n",
    "\t\t\tcv2.rectangle(img, (20, 20), (750, 60), (b, g, r), -1)\n",
    "\t\t\ttext = get_color_name(r, g, b) + f' R={r} G={g} B={b}'\n",
    "\t\t\tcv2.putText(img, text, (50, 50), 2, 0.8, (255, 255, 255), 2, cv2.LINE_AA)\n",
    "\t\t\tclicked = False\n",
    "\n",
    "\t# Break on ESC\n",
    "\tif (cv2.waitKey(20) & 0xFF == 27):\n",
    "\t\t\tbreak"
   ]
  },
  {
   "cell_type": "code",
   "execution_count": 8,
   "id": "a84b5230",
   "metadata": {},
   "outputs": [],
   "source": [
    "cv2.destroyAllWindows()"
   ]
  }
 ],
 "metadata": {
  "kernelspec": {
   "display_name": "Python 3",
   "language": "python",
   "name": "python3"
  },
  "language_info": {
   "codemirror_mode": {
    "name": "ipython",
    "version": 3
   },
   "file_extension": ".py",
   "mimetype": "text/x-python",
   "name": "python",
   "nbconvert_exporter": "python",
   "pygments_lexer": "ipython3",
   "version": "3.12.0"
  }
 },
 "nbformat": 4,
 "nbformat_minor": 5
}
